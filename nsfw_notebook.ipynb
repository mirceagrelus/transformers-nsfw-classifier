{
 "cells": [
  {
   "cell_type": "code",
   "execution_count": 12,
   "metadata": {},
   "outputs": [],
   "source": [
    "from transformers import pipeline\n",
    "from PIL import Image\n",
    "\n",
    "local_model_path = \"./model/nsfw-classifier\""
   ]
  },
  {
   "cell_type": "markdown",
   "metadata": {},
   "source": [
    "Download the model locally - if needed"
   ]
  },
  {
   "cell_type": "code",
   "execution_count": 6,
   "metadata": {},
   "outputs": [],
   "source": [
    "# use this to download the model locally from hugginface\n",
    "\n",
    "pipe = pipeline(\"image-classification\", model=\"giacomoarienti/nsfw-classifier\")\n",
    "# Save the model and tokenizer to local directory\n",
    "pipe.save_pretrained(local_model_path)"
   ]
  },
  {
   "cell_type": "code",
   "execution_count": 10,
   "metadata": {},
   "outputs": [],
   "source": [
    "pipe = pipeline(\"image-classification\", model=local_model_path)\n",
    "pipe.model.name_or_path"
   ]
  },
  {
   "cell_type": "code",
   "execution_count": 16,
   "metadata": {},
   "outputs": [
    {
     "data": {
      "text/plain": [
       "[{'label': 'neutral', 'score': 0.9797202944755554},\n",
       " {'label': 'drawings', 'score': 0.5292686223983765},\n",
       " {'label': 'hentai', 'score': 0.31383851170539856},\n",
       " {'label': 'sexy', 'score': 0.2016225904226303},\n",
       " {'label': 'porn', 'score': 0.133712038397789}]"
      ]
     },
     "execution_count": 16,
     "metadata": {},
     "output_type": "execute_result"
    }
   ],
   "source": [
    "image = Image.open(\"./data/image2.png\")\n",
    "result = pipe(image)\n",
    "result\n",
    "#image"
   ]
  }
 ],
 "metadata": {
  "kernelspec": {
   "display_name": "py310",
   "language": "python",
   "name": "python3"
  },
  "language_info": {
   "codemirror_mode": {
    "name": "ipython",
    "version": 3
   },
   "file_extension": ".py",
   "mimetype": "text/x-python",
   "name": "python",
   "nbconvert_exporter": "python",
   "pygments_lexer": "ipython3",
   "version": "3.10.14"
  }
 },
 "nbformat": 4,
 "nbformat_minor": 2
}
